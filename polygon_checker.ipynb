{
 "cells": [
  {
   "cell_type": "code",
   "execution_count": 3,
   "metadata": {},
   "outputs": [
    {
     "name": "stdout",
     "output_type": "stream",
     "text": [
      "Collecting fastkml\n",
      "  Downloading fastkml-1.1.0-py3-none-any.whl (107 kB)\n",
      "\u001b[2K     \u001b[90m━━━━━━━━━━━━━━━━━━━━━━━━━━━━━━━━━━━━━━━\u001b[0m \u001b[32m107.9/107.9 kB\u001b[0m \u001b[31m3.9 MB/s\u001b[0m eta \u001b[36m0:00:00\u001b[0m\n",
      "\u001b[?25hRequirement already satisfied: typing-extensions>4 in /Users/vishalivallioor/anaconda3/lib/python3.10/site-packages (from fastkml) (4.11.0)\n",
      "Collecting pygeoif>=1.5\n",
      "  Downloading pygeoif-1.5.1-py3-none-any.whl (28 kB)\n",
      "Requirement already satisfied: arrow in /Users/vishalivallioor/anaconda3/lib/python3.10/site-packages (from fastkml) (1.2.3)\n",
      "Requirement already satisfied: python-dateutil>=2.7.0 in /Users/vishalivallioor/anaconda3/lib/python3.10/site-packages (from arrow->fastkml) (2.9.0.post0)\n",
      "Requirement already satisfied: six>=1.5 in /Users/vishalivallioor/anaconda3/lib/python3.10/site-packages (from python-dateutil>=2.7.0->arrow->fastkml) (1.16.0)\n",
      "Installing collected packages: pygeoif, fastkml\n",
      "Successfully installed fastkml-1.1.0 pygeoif-1.5.1\n"
     ]
    }
   ],
   "source": [
    "!pip install fastkml"
   ]
  },
  {
   "cell_type": "code",
   "execution_count": 1,
   "metadata": {},
   "outputs": [],
   "source": [
    "import zipfile\n",
    "\n",
    "with zipfile.ZipFile(\"united_states.kmz\", \"r\") as kmz:\n",
    "    kmz.extractall(\"airspace_kml\")"
   ]
  },
  {
   "cell_type": "code",
   "execution_count": 4,
   "metadata": {},
   "outputs": [
    {
     "ename": "TypeError",
     "evalue": "'list' object is not callable",
     "output_type": "error",
     "traceback": [
      "\u001b[0;31m---------------------------------------------------------------------------\u001b[0m",
      "\u001b[0;31mTypeError\u001b[0m                                 Traceback (most recent call last)",
      "Cell \u001b[0;32mIn[4], line 11\u001b[0m\n\u001b[1;32m      8\u001b[0m k \u001b[38;5;241m=\u001b[39m kml\u001b[38;5;241m.\u001b[39mKML()\n\u001b[1;32m      9\u001b[0m k\u001b[38;5;241m.\u001b[39mfrom_string(doc\u001b[38;5;241m.\u001b[39mencode(\u001b[38;5;124m\"\u001b[39m\u001b[38;5;124mutf-8\u001b[39m\u001b[38;5;124m\"\u001b[39m))\n\u001b[0;32m---> 11\u001b[0m features \u001b[38;5;241m=\u001b[39m \u001b[38;5;28mlist\u001b[39m(\u001b[43mk\u001b[49m\u001b[38;5;241;43m.\u001b[39;49m\u001b[43mfeatures\u001b[49m\u001b[43m(\u001b[49m\u001b[43m)\u001b[49m)\n",
      "\u001b[0;31mTypeError\u001b[0m: 'list' object is not callable"
     ]
    }
   ],
   "source": [
    "from fastkml import kml\n",
    "from shapely.geometry import shape\n",
    "from lxml import etree\n",
    "\n",
    "with open(\"airspace_kml/doc.kml\", \"r\", encoding=\"utf-8\") as f:\n",
    "    doc = f.read()\n",
    "\n",
    "k = kml.KML()\n",
    "k.from_string(doc.encode(\"utf-8\"))\n",
    "\n",
    "features = list(k.features())\n"
   ]
  },
  {
   "cell_type": "code",
   "execution_count": 9,
   "metadata": {},
   "outputs": [
    {
     "name": "stdout",
     "output_type": "stream",
     "text": [
      "Found 0 placemark features.\n"
     ]
    }
   ],
   "source": [
    "from fastkml import kml\n",
    "\n",
    "def get_all_features(feature):\n",
    "    all_features = []\n",
    "    if hasattr(feature, 'features'):\n",
    "        sub_features = list(feature.features)\n",
    "        for f in sub_features:\n",
    "            all_features.extend(get_all_features(f))\n",
    "    else:\n",
    "        all_features.append(feature)\n",
    "    return all_features\n",
    "\n",
    "# Load and parse\n",
    "with open(\"airspace_kml/doc.kml\", \"r\", encoding=\"utf-8\") as f:\n",
    "    doc = f.read()\n",
    "\n",
    "k = kml.KML()\n",
    "k.from_string(doc.encode(\"utf-8\"))\n",
    "\n",
    "# Recursively gather all Placemarks (leaf features)\n",
    "top_features = list(k.features)\n",
    "all_features = []\n",
    "for feature in top_features:\n",
    "    all_features.extend(get_all_features(feature))\n",
    "\n",
    "print(f\"Found {len(all_features)} placemark features.\")\n"
   ]
  },
  {
   "cell_type": "code",
   "execution_count": null,
   "metadata": {},
   "outputs": [],
   "source": []
  }
 ],
 "metadata": {
  "kernelspec": {
   "display_name": "base",
   "language": "python",
   "name": "python3"
  },
  "language_info": {
   "codemirror_mode": {
    "name": "ipython",
    "version": 3
   },
   "file_extension": ".py",
   "mimetype": "text/x-python",
   "name": "python",
   "nbconvert_exporter": "python",
   "pygments_lexer": "ipython3",
   "version": "3.10.8"
  }
 },
 "nbformat": 4,
 "nbformat_minor": 2
}
